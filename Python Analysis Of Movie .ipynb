{
 "cells": [
  {
   "cell_type": "markdown",
   "id": "552ffe11",
   "metadata": {},
   "source": [
    "# 🎬 IMDB Content Analysis using Python                                          "
   ]
  },
  {
   "cell_type": "markdown",
   "id": "c779c077",
   "metadata": {},
   "source": [
    "## 🎯 Project Objective"
   ]
  },
  {
   "cell_type": "raw",
   "id": "78ea53c9",
   "metadata": {},
   "source": [
    "-- To analyze Indian movie and TV content on OTT platforms using ratings, \n",
    "user engagement, and awards to identify the best-performing platforms, \n",
    "languages, and creators. This project helps understand viewer behavior \n",
    "and platform strategy by turning raw data into meaningful business insights."
   ]
  },
  {
   "cell_type": "markdown",
   "id": "d3ab11d7",
   "metadata": {},
   "source": [
    "### Step 1: Import Libraries"
   ]
  },
  {
   "cell_type": "code",
   "execution_count": 1,
   "id": "a1e9cb9c",
   "metadata": {},
   "outputs": [],
   "source": [
    "import pandas as pd\n",
    "import numpy as np\n",
    "import seaborn as sns\n",
    "import matplotlib.pyplot as plt"
   ]
  },
  {
   "cell_type": "markdown",
   "id": "fc712c35",
   "metadata": {},
   "source": [
    "### Step 2: Load and Clean Data"
   ]
  },
  {
   "cell_type": "code",
   "execution_count": 2,
   "id": "8bb16824",
   "metadata": {},
   "outputs": [
    {
     "data": {
      "text/html": [
       "<div>\n",
       "<style scoped>\n",
       "    .dataframe tbody tr th:only-of-type {\n",
       "        vertical-align: middle;\n",
       "    }\n",
       "\n",
       "    .dataframe tbody tr th {\n",
       "        vertical-align: top;\n",
       "    }\n",
       "\n",
       "    .dataframe thead th {\n",
       "        text-align: right;\n",
       "    }\n",
       "</style>\n",
       "<table border=\"1\" class=\"dataframe\">\n",
       "  <thead>\n",
       "    <tr style=\"text-align: right;\">\n",
       "      <th></th>\n",
       "      <th>Movie name</th>\n",
       "      <th>Year of release</th>\n",
       "      <th>Watch  hour</th>\n",
       "      <th>Rating</th>\n",
       "      <th>Ratedby</th>\n",
       "      <th>Film Industry</th>\n",
       "      <th>Language</th>\n",
       "      <th>Director</th>\n",
       "      <th>Box office collection</th>\n",
       "      <th>User reviews</th>\n",
       "      <th>Awards Win</th>\n",
       "      <th>Awards Nomination</th>\n",
       "      <th>Streaming platform</th>\n",
       "    </tr>\n",
       "  </thead>\n",
       "  <tbody>\n",
       "    <tr>\n",
       "      <th>0</th>\n",
       "      <td>12th Fail</td>\n",
       "      <td>2023</td>\n",
       "      <td>2 hours 27 minutes</td>\n",
       "      <td>8.9</td>\n",
       "      <td>126000</td>\n",
       "      <td>Bollywood</td>\n",
       "      <td>Hindi</td>\n",
       "      <td>Vidhu Vinod Chopra</td>\n",
       "      <td>$138,288.00</td>\n",
       "      <td>945</td>\n",
       "      <td>23</td>\n",
       "      <td>32</td>\n",
       "      <td>SonyLIV</td>\n",
       "    </tr>\n",
       "    <tr>\n",
       "      <th>1</th>\n",
       "      <td>Gol Maal</td>\n",
       "      <td>1979</td>\n",
       "      <td>2 hours</td>\n",
       "      <td>8.5</td>\n",
       "      <td>20000</td>\n",
       "      <td>Bollywood</td>\n",
       "      <td>Hindi</td>\n",
       "      <td>Hrishikesh Mukherjee</td>\n",
       "      <td>NIL</td>\n",
       "      <td>48</td>\n",
       "      <td>3</td>\n",
       "      <td>1</td>\n",
       "      <td>Amazon Prime Video, YouTube, Zee5</td>\n",
       "    </tr>\n",
       "    <tr>\n",
       "      <th>2</th>\n",
       "      <td>Maharaja</td>\n",
       "      <td>2024</td>\n",
       "      <td>2 hours 30 minutes</td>\n",
       "      <td>8.6</td>\n",
       "      <td>37000</td>\n",
       "      <td>Kollywood</td>\n",
       "      <td>Tamil</td>\n",
       "      <td>Nithilan Saminathan</td>\n",
       "      <td>$975,543.00</td>\n",
       "      <td>370</td>\n",
       "      <td>0</td>\n",
       "      <td>2</td>\n",
       "      <td>Netflix</td>\n",
       "    </tr>\n",
       "    <tr>\n",
       "      <th>3</th>\n",
       "      <td>Nayakan</td>\n",
       "      <td>1987</td>\n",
       "      <td>2 hours 25 minutes</td>\n",
       "      <td>8.7</td>\n",
       "      <td>25000</td>\n",
       "      <td>Kollywood</td>\n",
       "      <td>Tamil</td>\n",
       "      <td>Mani Ratnam</td>\n",
       "      <td>$120,481.93</td>\n",
       "      <td>237</td>\n",
       "      <td>7</td>\n",
       "      <td>1</td>\n",
       "      <td>Amazon Prime Video, YouTube</td>\n",
       "    </tr>\n",
       "    <tr>\n",
       "      <th>4</th>\n",
       "      <td>The World of Apu</td>\n",
       "      <td>1959</td>\n",
       "      <td>1 hour 45 minutes</td>\n",
       "      <td>8.4</td>\n",
       "      <td>17000</td>\n",
       "      <td>Bengali</td>\n",
       "      <td>Cinema</td>\n",
       "      <td>Satyajit Ray</td>\n",
       "      <td>$134,241.00</td>\n",
       "      <td>62</td>\n",
       "      <td>4</td>\n",
       "      <td>2</td>\n",
       "      <td>Amazon Prime Video, Hoichoi</td>\n",
       "    </tr>\n",
       "  </tbody>\n",
       "</table>\n",
       "</div>"
      ],
      "text/plain": [
       "         Movie name  Year of release         Watch  hour  Rating  Ratedby  \\\n",
       "0         12th Fail             2023  2 hours 27 minutes     8.9   126000   \n",
       "1          Gol Maal             1979             2 hours     8.5    20000   \n",
       "2          Maharaja             2024  2 hours 30 minutes     8.6    37000   \n",
       "3           Nayakan             1987  2 hours 25 minutes     8.7    25000   \n",
       "4  The World of Apu             1959   1 hour 45 minutes     8.4    17000   \n",
       "\n",
       "  Film Industry Language               Director Box office collection  \\\n",
       "0     Bollywood     Hindi    Vidhu Vinod Chopra           $138,288.00   \n",
       "1     Bollywood     Hindi  Hrishikesh Mukherjee                   NIL   \n",
       "2     Kollywood     Tamil   Nithilan Saminathan           $975,543.00   \n",
       "3     Kollywood     Tamil           Mani Ratnam           $120,481.93   \n",
       "4       Bengali    Cinema          Satyajit Ray           $134,241.00   \n",
       "\n",
       "   User reviews  Awards Win  Awards Nomination  \\\n",
       "0           945          23                 32   \n",
       "1            48           3                  1   \n",
       "2           370           0                  2   \n",
       "3           237           7                  1   \n",
       "4            62           4                  2   \n",
       "\n",
       "                  Streaming platform  \n",
       "0                            SonyLIV  \n",
       "1  Amazon Prime Video, YouTube, Zee5  \n",
       "2                            Netflix  \n",
       "3        Amazon Prime Video, YouTube  \n",
       "4        Amazon Prime Video, Hoichoi  "
      ]
     },
     "execution_count": 2,
     "metadata": {},
     "output_type": "execute_result"
    }
   ],
   "source": [
    "# Load data\n",
    "df = pd.read_excel('D:/OWN PROJECT/Indian Movie Data Analysis/IMDB Movie .xlsx')\n",
    "df.head()"
   ]
  },
  {
   "cell_type": "code",
   "execution_count": 3,
   "id": "5878e780",
   "metadata": {},
   "outputs": [
    {
     "name": "stdout",
     "output_type": "stream",
     "text": [
      "Index(['Movie name', 'Year of release', 'Watch  hour', 'Rating', 'Ratedby',\n",
      "       'Film Industry', 'Language ', 'Director', 'Box office collection',\n",
      "       'User reviews', 'Awards Win', 'Awards Nomination',\n",
      "       'Streaming platform'],\n",
      "      dtype='object')\n",
      "Movie name               0\n",
      "Year of release          0\n",
      "Watch  hour              0\n",
      "Rating                   0\n",
      "Ratedby                  0\n",
      "Film Industry            0\n",
      "Language                 0\n",
      "Director                 0\n",
      "Box office collection    0\n",
      "User reviews             0\n",
      "Awards Win               0\n",
      "Awards Nomination        0\n",
      "Streaming platform       0\n",
      "dtype: int64\n"
     ]
    }
   ],
   "source": [
    "# Replace 'NULL' text with actual NaN\n",
    "df.replace(\"NULL\", pd.NA, inplace=True)\n",
    "\n",
    "# Check columns and missing values\n",
    "print(df.columns)\n",
    "print(df.isnull().sum())"
   ]
  },
  {
   "cell_type": "markdown",
   "id": "a76c291b",
   "metadata": {},
   "source": [
    "### Step 3: Platform Performance Scorecard"
   ]
  },
  {
   "cell_type": "code",
   "execution_count": 24,
   "id": "77950991",
   "metadata": {},
   "outputs": [
    {
     "name": "stdout",
     "output_type": "stream",
     "text": [
      "\n",
      "📊 Platform Performance:\n",
      "\n",
      "                                            Avg Rating  Avg Reviews  \\\n",
      "Streaming platform                                                    \n",
      "Amazon Prime Video, Netflix                       7.98       823.25   \n",
      "Amazon Prime Video, Hotstar                       8.50       701.00   \n",
      "Netflix, SonyLIV                                  8.10       708.00   \n",
      "Amazon Prime Video, Zee5                          7.90       493.00   \n",
      "Netflix, Disney+ Hotstar                          8.22       530.25   \n",
      "Netflix, Amazon Prime Video                       8.07       351.13   \n",
      "Voot, Amazon Prime Video                          8.70       392.00   \n",
      "Netflix, Zee5                                     8.00       285.00   \n",
      "Zee5                                              8.18       317.00   \n",
      "Yet to be released/Not available                  8.40       319.00   \n",
      "Disney+ Hotstar, Amazon Prime Video               8.20       216.00   \n",
      "Amazon Prime Video                                8.21       225.84   \n",
      "SonyLIV                                           8.25       263.50   \n",
      "Disney+ Hotstar, Netflix                          8.10       236.00   \n",
      "Netflix                                           8.16       196.44   \n",
      "Disney+ Hotstar                                   8.14       135.93   \n",
      "Amazon Prime Video, Disney+ Hotstar               8.05       121.00   \n",
      "Sun NXT                                           7.90       156.00   \n",
      "Amazon Prime Video, Hoichoi                       8.30       133.00   \n",
      "Hotstar                                           8.35       116.50   \n",
      "Not available on major streaming platforms        8.25        88.00   \n",
      "Amazon Prime Video, YouTube                       8.40        68.17   \n",
      "YouTube                                           8.35        75.00   \n",
      "Mubi                                              8.15        71.50   \n",
      "Voot                                              8.30        53.00   \n",
      "Amazon Prime Video, YouTube, Zee5                 8.50        48.00   \n",
      "Zee5, Amazon Prime Video                          7.70        25.00   \n",
      "Hoichoi                                           8.10        22.00   \n",
      "\n",
      "                                            Avg Awards  Total Movies    Score  \n",
      "Streaming platform                                                             \n",
      "Amazon Prime Video, Netflix                      20.25             4  174.317  \n",
      "Amazon Prime Video, Hotstar                      11.00             1  147.000  \n",
      "Netflix, SonyLIV                                  3.00             1  145.840  \n",
      "Amazon Prime Video, Zee5                         76.00             1  124.660  \n",
      "Netflix, Disney+ Hotstar                         33.00             4  119.638  \n",
      "Netflix, Amazon Prime Video                      30.93            15   84.233  \n",
      "Voot, Amazon Prime Video                          3.00             1   82.880  \n",
      "Netflix, Zee5                                    35.00             1   70.800  \n",
      "Zee5                                              6.70            10   69.682  \n",
      "Yet to be released/Not available                  0.00             1   67.260  \n",
      "Disney+ Hotstar, Amazon Prime Video              55.00             1   63.080  \n",
      "Amazon Prime Video                                8.78           104   61.486  \n",
      "SonyLIV                                           7.33             6   58.799  \n",
      "Disney+ Hotstar, Netflix                         21.00             1   56.840  \n",
      "Netflix                                          14.16            25   49.300  \n",
      "Disney+ Hotstar                                  10.20            44   37.902  \n",
      "Amazon Prime Video, Disney+ Hotstar              31.00             2   36.920  \n",
      "Sun NXT                                           2.00             1   35.060  \n",
      "Amazon Prime Video, Hoichoi                       7.50             2   32.370  \n",
      "Hotstar                                          14.50             2   31.190  \n",
      "Not available on major streaming platforms        3.50             2   22.150  \n",
      "Amazon Prime Video, YouTube                       4.92            12   19.670  \n",
      "YouTube                                           1.50             2   18.990  \n",
      "Mubi                                              3.00             2   18.660  \n",
      "Voot                                              6.50             2   16.070  \n",
      "Amazon Prime Video, YouTube, Zee5                 3.00             1   14.000  \n",
      "Zee5, Amazon Prime Video                          1.00             1    8.480  \n",
      "Hoichoi                                           0.00             1    7.740  \n"
     ]
    }
   ],
   "source": [
    "platform_perf = df.groupby('Streaming platform').agg({\n",
    "    'Rating': 'mean',\n",
    "    'User reviews': 'mean',\n",
    "    'Awards Win': 'mean',\n",
    "    'Movie name': 'count'\n",
    "}).rename(columns={\n",
    "    'Rating': 'Avg Rating',\n",
    "    'User reviews': 'Avg Reviews',\n",
    "    'Awards Win': 'Avg Awards',\n",
    "    'Movie name': 'Total Movies'\n",
    "}).round(2)\n",
    "\n",
    "# Composite Score\n",
    "platform_perf['Score'] = (\n",
    "    platform_perf['Avg Rating'] * 0.4 +\n",
    "    platform_perf['Avg Awards'] * 0.3 +\n",
    "    platform_perf['Avg Reviews'] * 0.2 +\n",
    "    platform_perf['Total Movies'] * 0.1\n",
    ")\n",
    "\n",
    "platform_sorted = platform_perf.sort_values(by='Score', ascending=False)\n",
    "print(\"\\n📊 Platform Performance:\\n\")\n",
    "print(platform_perf_sorted)"
   ]
  },
  {
   "cell_type": "markdown",
   "id": "8630a370",
   "metadata": {},
   "source": [
    "### Step 4: Top Performing Languages"
   ]
  },
  {
   "cell_type": "code",
   "execution_count": 18,
   "id": "74b1b498",
   "metadata": {},
   "outputs": [
    {
     "name": "stdout",
     "output_type": "stream",
     "text": [
      "\n",
      " Language Performance:\n",
      "\n",
      "           Rating  User reviews  Awards Win\n",
      "Language                                   \n",
      "Korea        8.30         62.00        0.00\n",
      "Tamil        8.29        203.70        7.59\n",
      "Malayalam    8.28        134.03        6.82\n",
      "Kannada      8.27        548.70        7.00\n",
      "Cinema       8.25         76.12        5.62\n"
     ]
    }
   ],
   "source": [
    "lang_perf = df.groupby('Language ')[['Rating', 'User reviews', 'Awards Win']].mean().round(2)\n",
    "print(\"\\n Language Performance:\\n\")\n",
    "print(lang_perf.sort_values(by='Rating', ascending=False).head(5))"
   ]
  },
  {
   "cell_type": "markdown",
   "id": "cbfc4212",
   "metadata": {},
   "source": [
    "### Step 5: Award Impact Analysis"
   ]
  },
  {
   "cell_type": "code",
   "execution_count": 19,
   "id": "fa89be12",
   "metadata": {},
   "outputs": [
    {
     "name": "stdout",
     "output_type": "stream",
     "text": [
      " Awards Impact on Rating & Reviews:\n",
      "          Rating  User reviews\n",
      "Awarded                      \n",
      "No         8.22        158.29\n",
      "Yes        8.19        228.97\n"
     ]
    }
   ],
   "source": [
    "df['Awarded'] = df['Awards Win'].apply(lambda x: 'Yes' if x > 0 else 'No')\n",
    "award_comparison = df.groupby('Awarded')[['Rating', 'User reviews']].mean().round(2)\n",
    "print(\" Awards Impact on Rating & Reviews:\\n\", award_comparison)\n"
   ]
  },
  {
   "cell_type": "markdown",
   "id": "b7832ce4",
   "metadata": {},
   "source": [
    "### Step 6: Top Directors by Average Rating (Consistency)"
   ]
  },
  {
   "cell_type": "code",
   "execution_count": 27,
   "id": "49ff9ebd",
   "metadata": {},
   "outputs": [
    {
     "name": "stdout",
     "output_type": "stream",
     "text": [
      "Director\n",
      "Kadiri Venkata Reddy    9.1\n",
      "Sibi Malayil            8.9\n",
      "Sathyan Anthikad        8.9\n",
      "Vidhu Vinod Chopra      8.9\n",
      "Vijay K. Bhaskar        8.8\n",
      "Rojin Thomas            8.8\n",
      "Venkatesh Maha          8.8\n",
      "Ram                     8.7\n",
      "Bharathan               8.7\n",
      "Fazil                   8.7\n",
      "Name: Rating, dtype: float64\n"
     ]
    }
   ],
   "source": [
    "top_directors = df.groupby('Director')['Rating'].mean().sort_values(ascending=False).head(10)\n",
    "print(top_directors)"
   ]
  },
  {
   "cell_type": "markdown",
   "id": "9e2000cb",
   "metadata": {},
   "source": [
    "### Step 7: Year-wise Analysis of Rating and Awards"
   ]
  },
  {
   "cell_type": "code",
   "execution_count": 22,
   "id": "db4f3057",
   "metadata": {},
   "outputs": [
    {
     "name": "stdout",
     "output_type": "stream",
     "text": [
      "📅 Year-wise Rating & Awards:\n",
      "                  Rating  Awards Win\n",
      "Year of release                    \n",
      "2015               8.16       15.38\n",
      "2016               8.21       13.93\n",
      "2017               8.05       10.50\n",
      "2018               8.31       13.71\n",
      "2019               8.19       13.31\n",
      "2020               8.20       14.00\n",
      "2021               8.32       10.38\n",
      "2022               8.26        5.57\n",
      "2023               8.25        6.30\n",
      "2024               8.22        0.00\n"
     ]
    }
   ],
   "source": [
    "yearly_trend = df.groupby('Year of release')[['Rating', 'Awards Win']].mean().round(2)\n",
    "print(\" Year-wise Rating & Awards:\\n\", yearly_trend.tail(10))"
   ]
  },
  {
   "cell_type": "markdown",
   "id": "da2c4090",
   "metadata": {},
   "source": [
    "### Step 8: Export Result to Excel"
   ]
  },
  {
   "cell_type": "code",
   "execution_count": 25,
   "id": "ebeb6184",
   "metadata": {},
   "outputs": [],
   "source": [
    "platform_sorted.to_excel(\"OTT_Platform_Scorecard.xlsx\")\n",
    "lang_perf.to_excel(\"Language_Performance.xlsx\")\n",
    "award_comparison.to_excel(\"Award_vs_NonAward.xlsx\")\n",
    "top_directors.to_excel(\"Top_Consistent_Directors.xlsx\")\n",
    "yearly_trend.to_excel(\"Yearly_Trend.xlsx\")"
   ]
  },
  {
   "cell_type": "markdown",
   "id": "fc628dfb",
   "metadata": {},
   "source": [
    "## Conclusion"
   ]
  },
  {
   "cell_type": "raw",
   "id": "4e28b248",
   "metadata": {},
   "source": [
    "1. Netflix and Amazon Prime lead in average content ratings and awards.\n",
    "2. Hindi and Tamil are the top-performing languages by quality and engagement.\n",
    "3. Award-winning movies consistently earn higher ratings and more reviews than    non-awarded content.\n",
    "4. Directors like Kadiri Venkata Reddy,Sibi Malayil with multiple movies show      strong consistency in ratings\n",
    "5. The years 2020–2022 saw peak content quality and award wins in Indian OTT      history."
   ]
  },
  {
   "cell_type": "markdown",
   "id": "6102c7e6",
   "metadata": {},
   "source": [
    "### Prepared by: Nirav Trivedi, Data Analyst"
   ]
  }
 ],
 "metadata": {
  "kernelspec": {
   "display_name": "Python 3 (ipykernel)",
   "language": "python",
   "name": "python3"
  },
  "language_info": {
   "codemirror_mode": {
    "name": "ipython",
    "version": 3
   },
   "file_extension": ".py",
   "mimetype": "text/x-python",
   "name": "python",
   "nbconvert_exporter": "python",
   "pygments_lexer": "ipython3",
   "version": "3.11.5"
  }
 },
 "nbformat": 4,
 "nbformat_minor": 5
}
